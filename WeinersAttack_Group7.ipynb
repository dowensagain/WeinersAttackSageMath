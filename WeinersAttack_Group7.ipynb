{
 "cells": [
  {
   "cell_type": "markdown",
   "metadata": {},
   "source": [
    "# [Wiener's Attack](https://en.wikipedia.org/wiki/Wiener%27s_attack)\n",
    "\n",
    "#### Group 7: Austin Beard, Junior Saintcius, John Owens"
   ]
  },
  {
   "cell_type": "markdown",
   "metadata": {},
   "source": [
    "## Preliminaries (Definitions and imports)"
   ]
  },
  {
   "cell_type": "code",
   "execution_count": 163,
   "metadata": {},
   "outputs": [],
   "source": [
    "#Imports\n",
    "import math\n",
    "\n",
    "# Group 7's (N, e) pair\n",
    "N_big = 947915625495728052916879147697360002848381185192346505887337318484424613804479379229500825154943023456531602566274207306369591959850608246425659384399592991634207719975226030904151882757589795301726622205405989011351842286767545223253169802897983637243167859583565776182244623125858428782210670308167292094521748561446916209557796073456184675807739356933731724960127222046486932110371797638731014250317825447454900437565086817233575744240640382684548268127956137173595899977563370261355506081974467333993545072663993466761303977372442140485495352997067642695566437175979143720808011678287958025730556920566713423095016601310050215390374360676665989625828596980532017231388237244123248528625713956773078115159965411732942413787894237594334962280338475577955633910836559629956564026617798854751095370708381339497715897167336403274224664697600147738325680779222350682292639751395534249345846969763993219058901236669322261406103455020265135135221755871135240191771715762695473152226592913073165991509715785601507547540424028508272006742607644751844712565734384457757831906046716752425927716813761510281226714973672364905890290774159582494385327020386478310127596750245584058550668842273035173930485514220124363571210008854397877759878109\n",
    "e_big = 704547874817628536678711224260347170080780157225302414633058087631273478699354942316191545183552970491256712479930884728272203750707194999236141913284914475190760565306955811426771755057311324861065120995469067811477070684340373917672377871037102399678405113518962175705845425490703244686038865941492819081360216141451957694835143605736374176464955479837962508015825872034637667723449908810156455398586426946187983417091803239944119556424937448702560147449296000358404512385942224137056969472773149280435494014441168305623041946847983160401839626890022631063357714302185156647516439105432586919947268965890950159670021155797827170793898880619668912414078180761247776607171716089112584888939756383508383552798449319245738264857608637364581842457448498549984823842222174304406071636079197079103741311287709390835892500282167064692991655929368336712543591994988841130885756415329962100690973384132459114994258583928548266879551395010165988053756662119802587150754631529097435381252816428859268931378932500218048710530873387464697995565066027920879230108859236321171012617250021403409639363576159429016313582199500594524217662031829176343714208316657171662175877320736019254117219869310765030193442816632528910296054592307278119395320563\n"
   ]
  },
  {
   "cell_type": "markdown",
   "metadata": {},
   "source": [
    "### Testing definitions"
   ]
  },
  {
   "cell_type": "code",
   "execution_count": 197,
   "metadata": {},
   "outputs": [],
   "source": [
    "def gen_pqN(bits):\n",
    "    \"\"\"\n",
    "    Input: number of bits for primes\n",
    "    Output: p, q, N=p*q\n",
    "    Example: gen_pqN(128) returns 128-bit p, 128-bit q, 256-bit N\n",
    "    \"\"\"\n",
    "    primes = []\n",
    "    \n",
    "    while(len(primes)< 2):\n",
    "        candidate = ZZ.random_element(2**bits-1)\n",
    "        if candidate.is_prime():\n",
    "            if (len(primes) == 1 \n",
    "            and candidate > primes[0]\n",
    "            and candidate < primes[0]*2):\n",
    "                primes.append(candidate)\n",
    "            elif len(primes) == 0:\n",
    "                primes.append(candidate)\n",
    "    q, p = primes[0], primes[1]\n",
    "    \n",
    "    return p, q, p*q\n",
    "\n",
    "def gen_e(p,q):\n",
    "    phiN = (p-1) * (q-1)\n",
    "    e = ZZ.random_element(phiN)\n",
    "    while gcd(phiN, e) != 1:\n",
    "        e = ZZ.random_element(phiN)\n",
    "    return e\n",
    "\n",
    "def gen_d(e, phiN):\n",
    "    return inverse_mod(e, phiN)\n",
    "\n",
    "def gen_de_smalld(p, q):\n",
    "    phiN = (p-1) * (q-1)\n",
    "    N = p*q\n",
    "    start = math.ceil(((N^(0.25))/3))-1000\n",
    "    d = gen_d_smalld(p, q, phiN, start)\n",
    "    e = gen_e_smalld(d, phiN)\n",
    "    while e > N^(3/2):\n",
    "        start += 1\n",
    "        d = gen_d_smalld(p, q, phiN, start)\n",
    "        e = gen_e_smalld(d, phiN)\n",
    "    return d, e\n",
    "\n",
    "def gen_d_smalld(p, q, phiN, start=1):\n",
    "    d = start\n",
    "    while gcd(phiN, d) != 1:\n",
    "        d += 1    \n",
    "    return d\n",
    "\n",
    "def gen_e_smalld(d, phiN):\n",
    "    return gen_d(d, phiN)\n",
    "    "
   ]
  },
  {
   "cell_type": "markdown",
   "metadata": {},
   "source": [
    "### Essential definitions"
   ]
  },
  {
   "cell_type": "code",
   "execution_count": 194,
   "metadata": {},
   "outputs": [],
   "source": [
    "def getConvergents(N,e):\n",
    "    return (e/N).continued_fraction().convergents()\n",
    "\n",
    "# def calcPhiN(convergents, e):\n",
    "#     for conv in convergents:\n",
    "#         if conv != 0:\n",
    "#             phiN = conv^(-1) * e - 1\n",
    "#             if phiN.denom() == 1:\n",
    "#                 return phiN\n",
    "#     raise Exception('No factorizations found!')\n",
    "    \n",
    "def calcPhiN(convergents, e):\n",
    "    for conv in convergents:\n",
    "        if conv != 0:\n",
    "#             phiN = (conv^(-1) * e) - 1\n",
    "            num = (conv.denominator() * e) - 1\n",
    "            denom  = conv.numerator()\n",
    "            phiN = num/denom\n",
    "            if phiN.denom() == 1:\n",
    "                return phiN\n",
    "    raise Exception('No factorizations found!')\n",
    "\n",
    "def findRoots(phiN, N):\n",
    "    return solve(x^2 - ((N - phiN)+1)*x + N, x, solution_dict=True)\n",
    "\n",
    "def Wiener(N, e):\n",
    "    \"\"\"\n",
    "    Input: integers N and e\n",
    "    Output: integers p, q, and d\n",
    "    \"\"\"\n",
    "    \n",
    "    #Do the attack here\n",
    "    convergents = getConvergents(N, e)\n",
    "    phiN = calcPhiN(convergents, e)\n",
    "    roots = findRoots(phiN, N)\n",
    "    p = roots[0][x]\n",
    "    q = roots[1][x]\n",
    "    d = gen_d(e, phiN)\n",
    "    \n",
    "    #return results\n",
    "    return p, q, d"
   ]
  },
  {
   "cell_type": "markdown",
   "metadata": {},
   "source": [
    "## Tests"
   ]
  },
  {
   "cell_type": "markdown",
   "metadata": {},
   "source": [
    "### Following the example on Wikipedia:"
   ]
  },
  {
   "cell_type": "code",
   "execution_count": 166,
   "metadata": {},
   "outputs": [
    {
     "name": "stdout",
     "output_type": "stream",
     "text": [
      "[0; 5, 29, 4, 1, 3, 2, 4, 3]\n",
      "[0, 1/5, 29/146, 117/589, 146/735, 555/2794, 1256/6323, 5579/28086, 17993/90581]\n"
     ]
    }
   ],
   "source": [
    "#Test continued fraction (example from Wikipedia) - works\n",
    "N = 90581\n",
    "e = 17993\n",
    "\n",
    "print(continued_fraction(17993/90581))\n",
    "print((17993/90581).continued_fraction().convergents())"
   ]
  },
  {
   "cell_type": "code",
   "execution_count": 195,
   "metadata": {
    "scrolled": true
   },
   "outputs": [
    {
     "name": "stdout",
     "output_type": "stream",
     "text": [
      "Original p,q: 379,239\n",
      "Original d: 5\n",
      "Recovered p,q: 379,239\n",
      "Recovered d: 5\n"
     ]
    }
   ],
   "source": [
    "N_wiki = 90581\n",
    "e_wiki = 17993\n",
    "p_wiki = 379\n",
    "q_wiki = 239\n",
    "phiN_wiki = (p_wiki-1)*(q_wiki-1)\n",
    "\n",
    "print('Original p,q: {},{}'.format(p_wiki,q_wiki))\n",
    "print('Original d: {}'.format(gen_d(e_wiki, phiN_wiki)))\n",
    "p_recov, q_recov, d_recov = Wiener(N_wiki, e_wiki)\n",
    "print('Recovered p,q: {},{}'.format(p_recov, q_recov))\n",
    "print('Recovered d: {}'.format(d_recov))"
   ]
  },
  {
   "cell_type": "markdown",
   "metadata": {},
   "source": [
    "### Test generating small 'd' first"
   ]
  },
  {
   "cell_type": "code",
   "execution_count": 168,
   "metadata": {},
   "outputs": [
    {
     "name": "stdout",
     "output_type": "stream",
     "text": [
      "(-991, 12437)\n",
      "5 6007 5\n"
     ]
    }
   ],
   "source": [
    "d,e = gen_de_smalld(p_wiki, q_wiki)\n",
    "print((d,e))\n",
    "\n",
    "mt = 5\n",
    "ct = pow(mt,d,N_wiki)\n",
    "mct = pow(ct,e,N_wiki)\n",
    "\n",
    "print(mt, ct, mct)"
   ]
  },
  {
   "cell_type": "markdown",
   "metadata": {},
   "source": [
    "### Generalize:\n",
    "## This isn't working..for now. d is too large."
   ]
  },
  {
   "cell_type": "code",
   "execution_count": 198,
   "metadata": {
    "scrolled": true
   },
   "outputs": [
    {
     "name": "stdout",
     "output_type": "stream",
     "text": [
      "Original p,q: 318682516130230716491204857243837331899,309035911827618983107233014928380091913\n",
      "Original d,e: 5905008704476424219,19784553682639035808213872809893023796162101173033623223317001881392802478867\n",
      "Recovered p,q: -1/2*sqrt(374272638616317663840684430841220407375220736329374097730455800377754061832373354582192769483914509399177352519074050798940021862796940489400915882485893) + 19346127225269600811942653453821176072154354928246366073125852101643096917321/2,1/2*sqrt(374272638616317663840684430841220407375220736329374097730455800377754061832373354582192769483914509399177352519074050798940021862796940489400915882485893) + 19346127225269600811942653453821176072154354928246366073125852101643096917321/2\n",
      "Recovered d: 4\n"
     ]
    }
   ],
   "source": [
    "def testWienerRandom(bits):\n",
    "    \"\"\"\n",
    "    Finding d, where p and q are \"bits\" bits each.\n",
    "    \"\"\"\n",
    "    p, q, N = gen_pqN(bits)\n",
    "#     phiN = (p-1)*(q-1)\n",
    "    d,e = gen_de_smalld(p,q)\n",
    "\n",
    "    while d >= (N^(1/4))/3:\n",
    "        p, q, N = gen_pqN(bits)\n",
    "#         phiN = (p-1)*(q-1)\n",
    "        d,e = gen_de_smalld(p,q)\n",
    "    \n",
    "    print('Original p,q: {},{}'.format(p,q))\n",
    "    print('Original d,e: {},{}'.format(d,e))\n",
    "    p_recov, q_recov, d_recov = Wiener(N, e)\n",
    "    print('Recovered p,q: {},{}'.format(p_recov, q_recov))\n",
    "    print('Recovered d: {}'.format(d_recov))\n",
    "    \n",
    "testWienerRandom(128)"
   ]
  },
  {
   "cell_type": "code",
   "execution_count": 170,
   "metadata": {},
   "outputs": [
    {
     "name": "stdout",
     "output_type": "stream",
     "text": [
      "207582472920375578813462022358470584381 98520343073934046407434406230274777211 20451096448251025899790855439626634464347766195169056067951927283031751341391\n"
     ]
    }
   ],
   "source": [
    "#Testing on multiple (N, e) pairs\n",
    "# N = 256 bits\n",
    "\n",
    "p, q, N = gen_pqN(128)\n",
    "print(p,q,N)\n",
    "\n",
    "# p, q, d = Wiener(N, e)"
   ]
  },
  {
   "cell_type": "code",
   "execution_count": 171,
   "metadata": {},
   "outputs": [
    {
     "name": "stdout",
     "output_type": "stream",
     "text": [
      "(-5*I*sqrt(818043857930041035991634217585065378573910647806762242718077091321269828790) + 2371, 5*I*sqrt(818043857930041035991634217585065378573910647806762242718077091321269828790) + 2371, 1644375367713357393245224365974642957654399468936966798098570980383673823)\n"
     ]
    }
   ],
   "source": [
    "print(Wiener(N, e))"
   ]
  },
  {
   "cell_type": "code",
   "execution_count": 172,
   "metadata": {
    "scrolled": true
   },
   "outputs": [
    {
     "data": {
      "text/plain": [
       "13"
      ]
     },
     "execution_count": 172,
     "metadata": {},
     "output_type": "execute_result"
    }
   ],
   "source": [
    "Primes().unrank(5)"
   ]
  },
  {
   "cell_type": "code",
   "execution_count": null,
   "metadata": {},
   "outputs": [],
   "source": [
    "# sage: p = 320273329987802959821281693988321547291\n",
    "# sage: q = 149649074209532604\n",
    "# sage: q = 149649074209532604317640663289310668957\n",
    "# sage: N = p*q\n",
    "# sage: phiN = (p-1)*(q-1)\n",
    "# sage: solve(x^2 - ((N - phiN)+1)*x + N, x, solution_dict=True)\n",
    "# [{x: 320273329987802959821281693988321547291},\n",
    "#  {x: 149649074209532604317640663289310668957}]\n",
    "# sage: def calcPhiN(convergents, e):\n",
    "# ....:     phiNs = []\n",
    "# ....:     for conv in convergents:\n",
    "# ....:         if conv != 0:\n",
    "# ....:             phiN = conv^(-1) * e - 1\n",
    "# ....:             if phiN.denom() == 1:\n",
    "# ....:                 phiNs.append(phiN)\n",
    "# ....:     #                 return phiN\n",
    "# ....:     if len(phiNs) == 0:\n",
    "# ....:         raise Exception('No factorizations found!')\n",
    "# ....:\n",
    "# ....:     return phiNs\n",
    "# ....:\n",
    "# sage: e = 23996788267625896323473767121972395254189012995588274077311938120900663209053\n",
    "# sage: d = 4932049738791738397\n",
    "# sage: phiNs = calcPhiN((e/N).continued_fraction().convergents(), e)\n",
    "# sage: phiNs\n",
    "# [23996788267625896323473767121972395254189012995588274077311938120900663209052,\n",
    "#  47993576535251792646947534243944790508378025991176548154623876241801326418105,\n",
    "#  47928607326678849157541486379966219744101079672005546355598566125376521145486]\n",
    "# sage: phiN\n",
    "# 47928607326678849157541486379966219743631157267808210791459643768098888929240\n",
    "# sage: phiN - 47928607326678849157541486379966219744101079672005546355598566125376521145486\n",
    "# -469922404197335564138922357277632216246"
   ]
  }
 ],
 "metadata": {
  "kernelspec": {
   "display_name": "SageMath 9.2",
   "language": "sage",
   "name": "sagemath"
  },
  "language_info": {
   "codemirror_mode": {
    "name": "ipython",
    "version": 3
   },
   "file_extension": ".py",
   "mimetype": "text/x-python",
   "name": "python",
   "nbconvert_exporter": "python",
   "pygments_lexer": "ipython3",
   "version": "3.7.7"
  }
 },
 "nbformat": 4,
 "nbformat_minor": 4
}
